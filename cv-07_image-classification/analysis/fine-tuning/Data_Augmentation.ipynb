{
 "cells": [
  {
   "attachments": {},
   "cell_type": "markdown",
   "metadata": {},
   "source": [
    "# Data_Augmentation"
   ]
  },
  {
   "attachments": {},
   "cell_type": "markdown",
   "metadata": {},
   "source": [
    "- 다양한 데이터 Augmentation 기법 적용\n",
    "- 데이터 불균형을 해결하기 위한 OverSampling"
   ]
  },
  {
   "attachments": {},
   "cell_type": "markdown",
   "metadata": {},
   "source": [
    "## 1. Augmentaion 적용"
   ]
  },
  {
   "attachments": {},
   "cell_type": "markdown",
   "metadata": {},
   "source": [
    "![nn](/opt/ml/exp_image/Augmentation2.png)"
   ]
  },
  {
   "attachments": {},
   "cell_type": "markdown",
   "metadata": {},
   "source": [
    "**[모델 공통점]**\n",
    "```python\n",
    "{ \n",
    "    \"resize\": [224, 224], \n",
    "    \"batch_size\": 32,\n",
    "    \"model\": \"ResNet18\", \n",
    "    \"optimizer\": \"Adam\", \n",
    "    \"lr\": 0.0001, \n",
    "    \"criterion\": \"cross_entropy\"\n",
    "}\n",
    "```\n",
    "\n",
    "**[모델별 차이점]**\n",
    "- exp42 : Base Augmentation, 20 epochs\n",
    "- exp44 : Base Custom Augmentation, 20 epochs\n",
    "- exp45 : Custom Augmentation, 100 epochs\n",
    "\n",
    "**[결과]**\n",
    "- 데이터가 부족하다고 판단해 기존 image data를 최대한 손상시키지 않고 변형을 할 수 있는 방법들로 Augmentation을 진행하고 epochs를 늘려 다양한 데이터를 학습 할 수 있도록 했으나, Augmentation을 주지 않은 경우보다 정확도가 현저히 낮음\n",
    "\n",
    "**[계획]**\n",
    "- ResNet152같이 굉장히 깊은 모델 + 높은 epochs을 적용시키면 성능이 향상이 있을 것 같아 진행할 계획\n",
    "- 추가적으로 Augmentation을 통해 학습을 잘 할 수 있을 법한 모델들을 찾아 볼 계획"
   ]
  },
  {
   "attachments": {},
   "cell_type": "markdown",
   "metadata": {},
   "source": [
    "## 2. Imbalanced Dataset Sampling "
   ]
  },
  {
   "attachments": {},
   "cell_type": "markdown",
   "metadata": {},
   "source": [
    "![nn](/opt/ml/exp_image/Imbalanced_Dataset_Sampling.png)"
   ]
  },
  {
   "attachments": {},
   "cell_type": "markdown",
   "metadata": {},
   "source": [
    "**[모델 공통점]**\n",
    "```python\n",
    "{ \n",
    "    \"resize\": [224, 224], \n",
    "    \"batch_size\": 32,\n",
    "    \"model\": \"ResNet18\", \n",
    "    \"optimizer\": \"Adam\",\n",
    "    \"Augmentation\": \"CustomAugmentation\",\n",
    "    \"lr\": 0.0001, \n",
    "    \"criterion\": \"cross_entropy\"\n",
    "}\n",
    "```\n",
    "\n",
    "**[모델별 차이점]**\n",
    "- exp37: with imbalanced dataset sampling\n",
    "- exp37 with no imbalanced : no imbalanced dataset sampling\n",
    "\n",
    "**[결과]**\n",
    "- 데이터 불균형을 완화시키기 위해 Oversampling 기법인 Imbalanced Dataset Sampling을 통해 학습시 균등한 라벨 분포를 가진 train_set을 만들어 학습을 진행\n",
    "- 약 7%의 성능 향상이 있었음\n",
    "\n",
    "**[계획]**\n",
    "- 어제 수영님과 얘기했던 Downsampling 이후 다양한 Augmentation을 적용해 epochs을 늘려보는 방법을 해볼 생각"
   ]
  },
  {
   "attachments": {},
   "cell_type": "markdown",
   "metadata": {},
   "source": [
    "### 2-1. Imbalanced Dataset Sampling in best model"
   ]
  },
  {
   "attachments": {},
   "cell_type": "markdown",
   "metadata": {},
   "source": [
    "![nn](/opt/ml/exp_image/Augmentation3.png)"
   ]
  },
  {
   "attachments": {},
   "cell_type": "markdown",
   "metadata": {},
   "source": [
    "**[모델 공통점]**\n",
    "```python\n",
    "{ \n",
    "    \"resize\": [224, 224], \n",
    "    \"batch_size\": 32,\n",
    "    \"model\": \"ResNet18\", \n",
    "    \"optimizer\": \"Adam\",\n",
    "    \"Augmentation\": \"BaseAugmentation\",\n",
    "    \"lr\": 0.0001, \n",
    "    \"criterion\": \"cross_entropy\"\n",
    "}\n",
    "```\n",
    "\n",
    "**[모델별 차이점]**\n",
    "- exp42: with imbalanced dataset sampling\n",
    "- exp42 with no imbalanced : no imbalanced dataset sampling\n",
    "\n",
    "**[결과]**\n",
    "- 데이터 불균형을 완화시키기 위해 Oversampling 기법인 Imbalanced Dataset Sampling을 통해 학습시 균등한 라벨 분포를 가진 train_set을 만들어 학습을 진행\n",
    "- Best Model에 대해서는 큰 의미가 없었음\n",
    "\n",
    "**[분석]**\n",
    "- 위의 exp37과 exp42의 차이는 Augmentation을 적용 했느냐 적용하지 않았냐 차이\n",
    "- Augmentation을 적용시키면 데이터가 다양화(?) 되기 때문에 이로 인해 Oversampling의 효과가 더 크게 나오지 않았나 생각됨\n",
    "- Augmentation을 적용시킨 모델이 Base Augmentation보다 좋은 성능을 내는 모델이 존재한다면 현재 Oversampling기법의 효과가 더 커지지 않을까 생각\n",
    "\n",
    "**[계획]**\n",
    "- 어제 수영님과 얘기했던 Downsampling 이후 다양한 Augmentation을 적용해 epochs을 늘려보는 방법을 해볼 생각"
   ]
  },
  {
   "cell_type": "markdown",
   "metadata": {},
   "source": []
  }
 ],
 "metadata": {
  "language_info": {
   "name": "python"
  },
  "orig_nbformat": 4
 },
 "nbformat": 4,
 "nbformat_minor": 2
}
