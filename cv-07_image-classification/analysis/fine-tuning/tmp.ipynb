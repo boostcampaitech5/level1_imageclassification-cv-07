{
 "cells": [
  {
   "attachments": {},
   "cell_type": "markdown",
   "metadata": {},
   "source": [
    "# Fine-tuning"
   ]
  },
  {
   "attachments": {},
   "cell_type": "markdown",
   "metadata": {},
   "source": [
    "- 다양한 pretrained networks를 활용한 실험\n",
    "\n",
    "- <span style='color:red'>주의사항</span>\n",
    "    - 현재 설치되어있는 cuda 버전이 11.0이라서, 파이토치 1.7.1 버전까지만 설치가 가능하다.\n",
    "    - cuda 버전을 바꾸어도 될 지 확인해보아야겠다."
   ]
  },
  {
   "attachments": {},
   "cell_type": "markdown",
   "metadata": {},
   "source": [
    "## 실험 1: ResNet-18\n",
    "- 데이터의 수가 많지 않기 때문에, pretrained된 resnet 18 모델을 활용한다.\n",
    "- resnet은 imagenet 데이터로 학습되었는데, 대회 데이터인 마스크 데이터셋과는 차이가 있기 때문에\n",
    "resnet 또한 최적화한다.\n",
    "- 결과적으로 resnet18을 backbone으로 설정하고, classifier를 basemodel로 만든 뒤 학습시킨다."
   ]
  },
  {
   "cell_type": "markdown",
   "metadata": {},
   "source": []
  }
 ],
 "metadata": {
  "language_info": {
   "name": "python"
  },
  "orig_nbformat": 4
 },
 "nbformat": 4,
 "nbformat_minor": 2
}
